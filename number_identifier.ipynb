{
 "cells": [
  {
   "cell_type": "code",
   "execution_count": 2,
   "metadata": {},
   "outputs": [],
   "source": [
    "import tensorflow as tf\n",
    "import numpy as np\n",
    "import matplotlib.pyplot as plt\n",
    "import os\n",
    "import cv2\n",
    "from sklearn.model_selection import train_test_split"
   ]
  },
  {
   "cell_type": "code",
   "execution_count": 3,
   "metadata": {},
   "outputs": [
    {
     "name": "stdout",
     "output_type": "stream",
     "text": [
      "10160\n",
      "10160\n"
     ]
    }
   ],
   "source": [
    "#Get the data\n",
    "classes = 10 \n",
    "images = []\n",
    "labels = [] \n",
    "\n",
    "for i in range(0, classes):\n",
    "    imgList = os.listdir('Data/'+str(i))\n",
    "    for j in imgList:\n",
    "        currentImg = cv2.imread('Data/'+str(i)+'/'+str(j))\n",
    "        currentImg = cv2.resize(currentImg, (28, 28))\n",
    "        images.append(currentImg)\n",
    "        labels.append(i)\n",
    "        \n",
    "print(len(images))\n",
    "print(len(labels))"
   ]
  },
  {
   "cell_type": "code",
   "execution_count": 4,
   "metadata": {},
   "outputs": [
    {
     "name": "stdout",
     "output_type": "stream",
     "text": [
      "(10160, 28, 28, 3)\n",
      "(10160,)\n"
     ]
    }
   ],
   "source": [
    "images = np.array(images)\n",
    "labels = np.array(labels)\n",
    "print(images.shape)\n",
    "print(labels.shape)"
   ]
  },
  {
   "cell_type": "code",
   "execution_count": 5,
   "metadata": {},
   "outputs": [
    {
     "data": {
      "text/plain": [
       "<matplotlib.image.AxesImage at 0x282222cf910>"
      ]
     },
     "execution_count": 5,
     "metadata": {},
     "output_type": "execute_result"
    },
    {
     "data": {
      "image/png": "[encoded data removed]",
      "text/plain": [
       "<Figure size 432x288 with 1 Axes>"
      ]
     },
     "metadata": {
      "needs_background": "light"
     },
     "output_type": "display_data"
    }
   ],
   "source": [
    "plt.imshow(images[8000])"
   ]
  },
  {
   "cell_type": "markdown",
   "metadata": {},
   "source": [
    "Splitting ito train test\n"
   ]
  },
  {
   "cell_type": "code",
   "execution_count": 6,
   "metadata": {},
   "outputs": [
    {
     "name": "stdout",
     "output_type": "stream",
     "text": [
      "(8128, 28, 28, 3)\n",
      "(2032, 28, 28, 3)\n"
     ]
    }
   ],
   "source": [
    "\n",
    "train_images, test_images, train_labels, test_labels = train_test_split(images, labels, test_size=0.2)\n",
    "print(train_images.shape)\n",
    "print(test_images.shape)"
   ]
  },
  {
   "cell_type": "code",
   "execution_count": 7,
   "metadata": {},
   "outputs": [
    {
     "name": "stdout",
     "output_type": "stream",
     "text": [
      "(6502, 28, 28, 3)\n",
      "(1626, 28, 28, 3)\n"
     ]
    }
   ],
   "source": [
    "\n",
    "train_images,  val_images, train_labels, val_labels = train_test_split(train_images, train_labels, test_size=0.2)\n",
    "print(train_images.shape)\n",
    "print(val_images.shape)\n",
    "\n"
   ]
  },
  {
   "cell_type": "markdown",
   "metadata": {},
   "source": [
    "## Preprocessing\n"
   ]
  },
  {
   "cell_type": "code",
   "execution_count": 8,
   "metadata": {},
   "outputs": [],
   "source": [
    "def preProcess(img):\n",
    "    img=cv2.cvtColor(img,cv2.COLOR_BGR2GRAY)\n",
    "    img=cv2.equalizeHist(img)\n",
    "    x,img=cv2.threshold(img, 127, 255, cv2.THRESH_BINARY)\n",
    "    img=img/255\n",
    "    return img\n",
    "\n",
    "train_images = np.array(list(map(preProcess, train_images)))\n",
    "test_images = np.array(list(map(preProcess, test_images)))\n",
    "val_images = np.array(list(map(preProcess, val_images)))"
   ]
  },
  {
   "cell_type": "code",
   "execution_count": 9,
   "metadata": {},
   "outputs": [
    {
     "name": "stdout",
     "output_type": "stream",
     "text": [
      "(6502, 28, 28)\n",
      "(2032, 28, 28)\n",
      "(1626, 28, 28)\n"
     ]
    }
   ],
   "source": [
    "print(train_images.shape)\n",
    "print(test_images.shape)\n",
    "print(val_images.shape)"
   ]
  },
  {
   "cell_type": "code",
   "execution_count": 10,
   "metadata": {},
   "outputs": [],
   "source": [
    "train_images = train_images.reshape(train_images.shape[0], 28, 28, 1)\n",
    "test_images = test_images.reshape(test_images.shape[0], 28, 28, 1)\n",
    "val_images = val_images.reshape(val_images.shape[0], 28, 28, 1)"
   ]
  },
  {
   "cell_type": "code",
   "execution_count": 11,
   "metadata": {},
   "outputs": [
    {
     "name": "stdout",
     "output_type": "stream",
     "text": [
      "(6502, 28, 28, 1)\n",
      "(2032, 28, 28, 1)\n",
      "(1626, 28, 28, 1)\n"
     ]
    }
   ],
   "source": [
    "print(train_images.shape)\n",
    "print(test_images.shape)\n",
    "print(val_images.shape)"
   ]
  },
  {
   "cell_type": "code",
   "execution_count": 12,
   "metadata": {},
   "outputs": [
    {
     "data": {
      "text/plain": [
       "<matplotlib.image.AxesImage at 0x28225cea160>"
      ]
     },
     "execution_count": 12,
     "metadata": {},
     "output_type": "execute_result"
    },
    {
     "data": {
      "image/png": "[encoded data removed]",
      "text/plain": [
       "<Figure size 432x288 with 1 Axes>"
      ]
     },
     "metadata": {
      "needs_background": "light"
     },
     "output_type": "display_data"
    }
   ],
   "source": [
    "plt.imshow(images[2000])"
   ]
  },
  {
   "cell_type": "code",
   "execution_count": 12,
   "metadata": {},
   "outputs": [],
   "source": [
    "# Creating Callback\n",
    "class myCallback(tf.keras.callbacks.Callback):\n",
    "    def on_epoch_end(self, epoch, logs={}):\n",
    "        if(logs.get('val_accuracy')>0.995):\n",
    "            print(\"\\nReached 99.5% accuracy so cancelling training!\")\n",
    "            self.model.stop_training = True"
   ]
  },
  {
   "cell_type": "markdown",
   "metadata": {},
   "source": [
    "## CNN\n"
   ]
  },
  {
   "cell_type": "code",
   "execution_count": 13,
   "metadata": {},
   "outputs": [],
   "source": [
    "model = tf.keras.models.Sequential([\n",
    "                                    tf.keras.layers.Conv2D(32, (3,3), input_shape=(28, 28, 1),  activation=\"relu\"),\n",
    "                                    tf.keras.layers.MaxPooling2D(2, 2),\n",
    "                                    tf.keras.layers.Dropout(0.5),\n",
    "                                    tf.keras.layers.Conv2D(64, (3,3),  activation=\"relu\"),\n",
    "                                    tf.keras.layers.MaxPooling2D(2, 2),\n",
    "                                    tf.keras.layers.Dropout(0.5),\n",
    "                                    tf.keras.layers.Conv2D(64, (3,3),  activation=\"relu\"),\n",
    "                                    tf.keras.layers.Flatten(),\n",
    "                                    tf.keras.layers.Dense(128, activation=\"relu\"),\n",
    "                                    tf.keras.layers.Dropout(0.5),\n",
    "                                    tf.keras.layers.Dense(10,activation=tf.nn.softmax)\n",
    "])"
   ]
  },
  {
   "cell_type": "code",
   "execution_count": 14,
   "metadata": {},
   "outputs": [
    {
     "name": "stdout",
     "output_type": "stream",
     "text": [
      "Model: \"sequential\"\n",
      "_________________________________________________________________\n",
      "Layer (type)                 Output Shape              Param #   \n",
      "=================================================================\n",
      "conv2d (Conv2D)              (None, 26, 26, 32)        320       \n",
      "_________________________________________________________________\n",
      "max_pooling2d (MaxPooling2D) (None, 13, 13, 32)        0         \n",
      "_________________________________________________________________\n",
      "dropout (Dropout)            (None, 13, 13, 32)        0         \n",
      "_________________________________________________________________\n",
      "conv2d_1 (Conv2D)            (None, 11, 11, 64)        18496     \n",
      "_________________________________________________________________\n",
      "max_pooling2d_1 (MaxPooling2 (None, 5, 5, 64)          0         \n",
      "_________________________________________________________________\n",
      "dropout_1 (Dropout)          (None, 5, 5, 64)          0         \n",
      "_________________________________________________________________\n",
      "conv2d_2 (Conv2D)            (None, 3, 3, 64)          36928     \n",
      "_________________________________________________________________\n",
      "flatten (Flatten)            (None, 576)               0         \n",
      "_________________________________________________________________\n",
      "dense (Dense)                (None, 128)               73856     \n",
      "_________________________________________________________________\n",
      "dropout_2 (Dropout)          (None, 128)               0         \n",
      "_________________________________________________________________\n",
      "dense_1 (Dense)              (None, 10)                1290      \n",
      "=================================================================\n",
      "Total params: 130,890\n",
      "Trainable params: 130,890\n",
      "Non-trainable params: 0\n",
      "_________________________________________________________________\n"
     ]
    }
   ],
   "source": [
    "model.compile(optimizer='adam', \n",
    "              loss='sparse_categorical_crossentropy', \n",
    "              metrics=['accuracy'])\n",
    "model.summary()"
   ]
  },
  {
   "cell_type": "markdown",
   "metadata": {},
   "source": [
    "#### Image Augmentation\n"
   ]
  },
  {
   "cell_type": "code",
   "execution_count": 15,
   "metadata": {},
   "outputs": [],
   "source": [
    "datagen = tf.keras.preprocessing.image.ImageDataGenerator(width_shift_range=0.1,\n",
    "                             height_shift_range=0.1,\n",
    "                             zoom_range=0.2,\n",
    "                             shear_range=0.1,\n",
    "                             rotation_range=10)"
   ]
  },
  {
   "cell_type": "markdown",
   "metadata": {},
   "source": [
    "#### Model Training"
   ]
  },
  {
   "cell_type": "code",
   "execution_count": 16,
   "metadata": {},
   "outputs": [
    {
     "name": "stdout",
     "output_type": "stream",
     "text": [
      "Epoch 1/30\n",
      "204/204 [==============================] - 5s 23ms/step - loss: 2.2300 - accuracy: 0.1578 - val_loss: 0.5522 - val_accuracy: 0.8641\n",
      "Epoch 2/30\n",
      "204/204 [==============================] - 4s 17ms/step - loss: 0.9965 - accuracy: 0.6632 - val_loss: 0.1688 - val_accuracy: 0.9569\n",
      "Epoch 3/30\n",
      "204/204 [==============================] - 4s 17ms/step - loss: 0.5271 - accuracy: 0.8387 - val_loss: 0.0836 - val_accuracy: 0.9729\n",
      "Epoch 4/30\n",
      "204/204 [==============================] - 3s 17ms/step - loss: 0.4066 - accuracy: 0.8645 - val_loss: 0.0567 - val_accuracy: 0.9809\n",
      "Epoch 5/30\n",
      "204/204 [==============================] - 3s 17ms/step - loss: 0.2961 - accuracy: 0.9049 - val_loss: 0.0581 - val_accuracy: 0.9803\n",
      "Epoch 6/30\n",
      "204/204 [==============================] - 4s 17ms/step - loss: 0.2552 - accuracy: 0.9168 - val_loss: 0.0390 - val_accuracy: 0.9871\n",
      "Epoch 7/30\n",
      "204/204 [==============================] - 3s 17ms/step - loss: 0.2464 - accuracy: 0.9232 - val_loss: 0.0453 - val_accuracy: 0.9865\n",
      "Epoch 8/30\n",
      "204/204 [==============================] - 4s 17ms/step - loss: 0.2031 - accuracy: 0.9361 - val_loss: 0.0565 - val_accuracy: 0.9822\n",
      "Epoch 9/30\n",
      "204/204 [==============================] - 4s 18ms/step - loss: 0.1993 - accuracy: 0.9351 - val_loss: 0.0425 - val_accuracy: 0.9834\n",
      "Epoch 10/30\n",
      "204/204 [==============================] - 4s 19ms/step - loss: 0.1675 - accuracy: 0.9437 - val_loss: 0.0366 - val_accuracy: 0.9871\n",
      "Epoch 11/30\n",
      "204/204 [==============================] - 4s 18ms/step - loss: 0.1507 - accuracy: 0.9540 - val_loss: 0.0226 - val_accuracy: 0.9945\n",
      "Epoch 12/30\n",
      "204/204 [==============================] - 4s 18ms/step - loss: 0.1628 - accuracy: 0.9494 - val_loss: 0.0274 - val_accuracy: 0.9895\n",
      "Epoch 13/30\n",
      "204/204 [==============================] - 4s 19ms/step - loss: 0.1584 - accuracy: 0.9510 - val_loss: 0.0322 - val_accuracy: 0.9895\n",
      "Epoch 14/30\n",
      "204/204 [==============================] - 4s 19ms/step - loss: 0.1546 - accuracy: 0.9496 - val_loss: 0.0255 - val_accuracy: 0.9920\n",
      "Epoch 15/30\n",
      "204/204 [==============================] - 4s 19ms/step - loss: 0.1382 - accuracy: 0.9556 - val_loss: 0.0249 - val_accuracy: 0.9908\n",
      "Epoch 16/30\n",
      "204/204 [==============================] - 4s 19ms/step - loss: 0.1434 - accuracy: 0.9523 - val_loss: 0.0259 - val_accuracy: 0.9914\n",
      "Epoch 17/30\n",
      "204/204 [==============================] - 4s 19ms/step - loss: 0.1270 - accuracy: 0.9581 - val_loss: 0.0271 - val_accuracy: 0.9908\n",
      "Epoch 18/30\n",
      "204/204 [==============================] - 4s 20ms/step - loss: 0.1286 - accuracy: 0.9609 - val_loss: 0.0313 - val_accuracy: 0.9877\n",
      "Epoch 19/30\n",
      "204/204 [==============================] - 4s 19ms/step - loss: 0.1138 - accuracy: 0.9641 - val_loss: 0.0264 - val_accuracy: 0.9920\n",
      "Epoch 20/30\n",
      "204/204 [==============================] - 4s 19ms/step - loss: 0.1226 - accuracy: 0.9640 - val_loss: 0.0237 - val_accuracy: 0.9908\n",
      "Epoch 21/30\n",
      "204/204 [==============================] - 4s 20ms/step - loss: 0.1252 - accuracy: 0.9605 - val_loss: 0.0253 - val_accuracy: 0.9914\n",
      "Epoch 22/30\n",
      "204/204 [==============================] - 4s 20ms/step - loss: 0.1080 - accuracy: 0.9675 - val_loss: 0.0239 - val_accuracy: 0.9902\n",
      "Epoch 23/30\n",
      "204/204 [==============================] - 4s 20ms/step - loss: 0.1018 - accuracy: 0.9674 - val_loss: 0.0195 - val_accuracy: 0.9945\n",
      "Epoch 24/30\n",
      "204/204 [==============================] - 4s 20ms/step - loss: 0.1283 - accuracy: 0.9597 - val_loss: 0.0271 - val_accuracy: 0.9914\n",
      "Epoch 25/30\n",
      "204/204 [==============================] - 4s 20ms/step - loss: 0.1240 - accuracy: 0.9605 - val_loss: 0.0189 - val_accuracy: 0.9957\n",
      "\n",
      "Reached 99.5% accuracy so cancelling training!\n"
     ]
    }
   ],
   "source": [
    "callbacks = myCallback()\n",
    "history = model.fit(datagen.flow(train_images, train_labels),\n",
    "                              epochs = 30, validation_data = (val_images, val_labels), callbacks = [callbacks])"
   ]
  },
  {
   "cell_type": "markdown",
   "metadata": {},
   "source": [
    "#### Plotting results of training"
   ]
  },
  {
   "cell_type": "code",
   "execution_count": 17,
   "metadata": {},
   "outputs": [
    {
     "data": {
      "image/png": "[encoded data removed]",
      "text/plain": [
       "<Figure size 432x288 with 1 Axes>"
      ]
     },
     "metadata": {
      "needs_background": "light"
     },
     "output_type": "display_data"
    },
    {
     "data": {
      "image/png": "[encoded data removed]",
      "text/plain": [
       "<Figure size 432x288 with 1 Axes>"
      ]
     },
     "metadata": {
      "needs_background": "light"
     },
     "output_type": "display_data"
    }
   ],
   "source": [
    "plt.figure(1)\n",
    "plt.plot(history.history['loss'])\n",
    "plt.plot(history.history['val_loss'])\n",
    "plt.legend(['Training','Validation'])\n",
    "plt.title('Loss')\n",
    "plt.xlabel('epoch')\n",
    "plt.figure(2)\n",
    "plt.plot(history.history['accuracy'])\n",
    "plt.plot(history.history['val_accuracy'])\n",
    "plt.legend(['Training','Validation'])\n",
    "plt.title('Accuracy')\n",
    "plt.xlabel('epoch')\n",
    "plt.show()"
   ]
  },
  {
   "cell_type": "markdown",
   "metadata": {},
   "source": [
    "#### Evaualting model\n"
   ]
  },
  {
   "cell_type": "code",
   "execution_count": 18,
   "metadata": {},
   "outputs": [
    {
     "name": "stdout",
     "output_type": "stream",
     "text": [
      "64/64 [==============================] - 0s 4ms/step - loss: 0.0150 - accuracy: 0.9946\n",
      "Test Score :  0.014966894872486591\n",
      "Test Accuracy :  0.9945865869522095\n"
     ]
    }
   ],
   "source": [
    "score = model.evaluate(test_images, test_labels, verbose=1)\n",
    "print('Test Score : ', score[0])\n",
    "print('Test Accuracy : ', score[1])"
   ]
  },
  {
   "cell_type": "markdown",
   "metadata": {},
   "source": [
    "#### Saving Model"
   ]
  },
  {
   "cell_type": "code",
   "execution_count": 19,
   "metadata": {},
   "outputs": [
    {
     "name": "stdout",
     "output_type": "stream",
     "text": [
      "INFO:tensorflow:Assets written to: Digit_Identification\\assets\n"
     ]
    }
   ],
   "source": [
    "model.save('Digit_Identification')\n",
    "model.save(\"Digit_Identification.h5\")"
   ]
  },
  {
   "cell_type": "code",
   "execution_count": null,
   "metadata": {},
   "outputs": [],
   "source": []
  }
 ],
 "metadata": {
  "kernelspec": {
   "display_name": "Python 3",
   "language": "python",
   "name": "python3"
  },
  "language_info": {
   "codemirror_mode": {
    "name": "ipython",
    "version": 3
   },
   "file_extension": ".py",
   "mimetype": "text/x-python",
   "name": "python",
   "nbconvert_exporter": "python",
   "pygments_lexer": "ipython3",
   "version": "3.8.5"
  }
 },
 "nbformat": 4,
 "nbformat_minor": 4
}
